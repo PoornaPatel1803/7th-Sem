{
 "cells": [
  {
   "cell_type": "markdown",
   "id": "31966b06",
   "metadata": {},
   "source": [
    "# KNN Algorithm \n",
    "## 1. Without sklearn"
   ]
  },
  {
   "cell_type": "code",
   "execution_count": 18,
   "id": "6d68b909",
   "metadata": {},
   "outputs": [
    {
     "name": "stdout",
     "output_type": "stream",
     "text": [
      "The prediction class for the test point [5.5 3.5] is sentosa.\n",
      "The prediction class for the test point [6.5 3. ] is virginica.\n",
      "The prediction class for the test point [4.  4.5] is sentosa.\n"
     ]
    }
   ],
   "source": [
    "import pandas as pd\n",
    "import numpy as np\n",
    "from collections import Counter\n",
    "\n",
    "def euclidean_distance(point1, point2):\n",
    "    return np.sqrt(np.sum((point1-point2)**2))\n",
    "    \n",
    "def knn(train_data, train_labels, test_points, k):\n",
    "    distances = []\n",
    "    for i in range(len(train_data)):\n",
    "        distance = euclidean_distance(train_data[i],test_point)\n",
    "        distances.append((train_labels[i], distance))\n",
    "        \n",
    "    distances.sort(key=lambda x:x[1])\n",
    "    k_nearest_neighbours = [distances[i][0] for i in range(k)]\n",
    "    return Counter(k_nearest_neighbours).most_common(1)[0][0]\n",
    "\n",
    "if __name__ == \"__main__\":\n",
    "    df=pd.read_csv('knn.csv')\n",
    "    train_data=df[['sepal length','sepal width']].values\n",
    "    train_labels = df['species'].values\n",
    "    test_data = np.array([\n",
    "        [5.5, 3.5],\n",
    "        [6.5,3],\n",
    "        [4, 4.5]\n",
    "    ])\n",
    "    k=3\n",
    "    for test_point in test_data:\n",
    "        prediction = knn(train_data, train_labels, test_point,k)\n",
    "        print(f\"The prediction class for the test point {test_point} is {prediction}.\")"
   ]
  },
  {
   "cell_type": "markdown",
   "id": "550d1381",
   "metadata": {},
   "source": [
    "## 2. Using Sklearn"
   ]
  },
  {
   "cell_type": "code",
   "execution_count": null,
   "id": "edd94250",
   "metadata": {},
   "outputs": [],
   "source": [
    "import pandas as pd \n",
    "from sklearn.model_selection import train_test_split\n",
    "from sklearn.neighbours import KNeighboursclassifier\n",
    "from sklearn.metrics import accuracy_score\n",
    "\n",
    "df = pd.read_csv('knn.csv')\n",
    "\n",
    "x = df[['sepal length','sepal width']].values\n",
    "x_train, x_test, y_train, y_test = train_test_split(x,y,test_size=0.2,random_states=42)\n",
    "k=3\n",
    "knn = KNeighboursClassifier()"
   ]
  }
 ],
 "metadata": {
  "kernelspec": {
   "display_name": "Python 3 (ipykernel)",
   "language": "python",
   "name": "python3"
  },
  "language_info": {
   "codemirror_mode": {
    "name": "ipython",
    "version": 3
   },
   "file_extension": ".py",
   "mimetype": "text/x-python",
   "name": "python",
   "nbconvert_exporter": "python",
   "pygments_lexer": "ipython3",
   "version": "3.9.12"
  }
 },
 "nbformat": 4,
 "nbformat_minor": 5
}

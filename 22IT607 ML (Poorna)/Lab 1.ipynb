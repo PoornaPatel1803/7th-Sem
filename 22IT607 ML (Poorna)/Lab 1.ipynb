{
 "cells": [
  {
   "cell_type": "code",
   "execution_count": 1,
   "id": "5e87ae44",
   "metadata": {},
   "outputs": [],
   "source": [
    "import numpy as np"
   ]
  },
  {
   "cell_type": "code",
   "execution_count": 95,
   "id": "abc6255e",
   "metadata": {},
   "outputs": [],
   "source": [
    "d1 = np.array([18, 22, 56, 1, 65, 12, 32, 10, 45, 78, 254])\n",
    "d2 = np.array([[1, 2, 3, 4], [8, 9, 10, 11]])\n",
    "d3 = np.array([[1, 2, 3, 4], [5, 1, 4, 5]])"
   ]
  },
  {
   "cell_type": "code",
   "execution_count": 17,
   "id": "b30f479d",
   "metadata": {},
   "outputs": [
    {
     "data": {
      "text/plain": [
       "array([1, 2, 3, 4, 5, 1, 0, 0, 0, 1, 1])"
      ]
     },
     "execution_count": 17,
     "metadata": {},
     "output_type": "execute_result"
    }
   ],
   "source": [
    "d1"
   ]
  },
  {
   "cell_type": "code",
   "execution_count": 18,
   "id": "8173a6fa",
   "metadata": {},
   "outputs": [
    {
     "data": {
      "text/plain": [
       "(11,)"
      ]
     },
     "execution_count": 18,
     "metadata": {},
     "output_type": "execute_result"
    }
   ],
   "source": [
    "d1.shape"
   ]
  },
  {
   "cell_type": "code",
   "execution_count": 19,
   "id": "59656e0d",
   "metadata": {},
   "outputs": [
    {
     "data": {
      "text/plain": [
       "(2, 4)"
      ]
     },
     "execution_count": 19,
     "metadata": {},
     "output_type": "execute_result"
    }
   ],
   "source": [
    "d2.shape"
   ]
  },
  {
   "cell_type": "code",
   "execution_count": 21,
   "id": "6fd283f5",
   "metadata": {},
   "outputs": [
    {
     "data": {
      "text/plain": [
       "2"
      ]
     },
     "execution_count": 21,
     "metadata": {},
     "output_type": "execute_result"
    }
   ],
   "source": [
    "d2.ndim"
   ]
  },
  {
   "cell_type": "code",
   "execution_count": 22,
   "id": "44c73e39",
   "metadata": {},
   "outputs": [
    {
     "data": {
      "text/plain": [
       "dtype('int32')"
      ]
     },
     "execution_count": 22,
     "metadata": {},
     "output_type": "execute_result"
    }
   ],
   "source": [
    "d1.dtype"
   ]
  },
  {
   "cell_type": "code",
   "execution_count": 25,
   "id": "b8f9ffdf",
   "metadata": {},
   "outputs": [
    {
     "name": "stdout",
     "output_type": "stream",
     "text": [
      "[[2 2 3 4]\n",
      " [5 1 1 1]]\n"
     ]
    }
   ],
   "source": [
    "result = d2 + d3\n",
    "print(result)"
   ]
  },
  {
   "cell_type": "code",
   "execution_count": 26,
   "id": "c11c7a69",
   "metadata": {},
   "outputs": [
    {
     "name": "stdout",
     "output_type": "stream",
     "text": [
      "<built-in method sort of numpy.ndarray object at 0x000001E84244B570>\n"
     ]
    }
   ],
   "source": [
    "print(d1.sort)"
   ]
  },
  {
   "cell_type": "code",
   "execution_count": 29,
   "id": "dd51dc87",
   "metadata": {},
   "outputs": [
    {
     "name": "stdout",
     "output_type": "stream",
     "text": [
      "[1 2 3 4 5 1 0 0 0 1 1]\n"
     ]
    }
   ],
   "source": [
    "print(d1)"
   ]
  },
  {
   "cell_type": "code",
   "execution_count": 32,
   "id": "c09ae40c",
   "metadata": {},
   "outputs": [
    {
     "data": {
      "text/plain": [
       "array([  1,  10,  12,  18,  22,  32,  45,  56,  65,  78, 254])"
      ]
     },
     "execution_count": 32,
     "metadata": {},
     "output_type": "execute_result"
    }
   ],
   "source": [
    "np.sort(d1)"
   ]
  },
  {
   "cell_type": "code",
   "execution_count": 33,
   "id": "2e746339",
   "metadata": {},
   "outputs": [
    {
     "name": "stdout",
     "output_type": "stream",
     "text": [
      "[ 18  22  56   1  65  12  32  10  45  78 254]\n"
     ]
    }
   ],
   "source": [
    "print(d1)"
   ]
  },
  {
   "cell_type": "code",
   "execution_count": 46,
   "id": "0acbc6ac",
   "metadata": {},
   "outputs": [
    {
     "data": {
      "text/plain": [
       "array([[1, 0, 0, 0],\n",
       "       [0, 0, 1, 1],\n",
       "       [1, 2, 3, 4],\n",
       "       [5, 1, 0, 0]])"
      ]
     },
     "execution_count": 46,
     "metadata": {},
     "output_type": "execute_result"
    }
   ],
   "source": [
    "np.concatenate((d2, d3))"
   ]
  },
  {
   "cell_type": "code",
   "execution_count": 41,
   "id": "5990c1f4",
   "metadata": {},
   "outputs": [
    {
     "data": {
      "text/plain": [
       "array([[0., 0., 0., 0., 0.],\n",
       "       [0., 0., 0., 0., 0.],\n",
       "       [0., 0., 0., 0., 0.],\n",
       "       [0., 0., 0., 0., 0.],\n",
       "       [0., 0., 0., 0., 0.]])"
      ]
     },
     "execution_count": 41,
     "metadata": {},
     "output_type": "execute_result"
    }
   ],
   "source": [
    "d4 = np.zeros([5,5])\n",
    "d4"
   ]
  },
  {
   "cell_type": "code",
   "execution_count": 43,
   "id": "68c086db",
   "metadata": {},
   "outputs": [
    {
     "data": {
      "text/plain": [
       "array([[1., 1., 1., 1., 1., 1., 1., 1.],\n",
       "       [1., 1., 1., 1., 1., 1., 1., 1.],\n",
       "       [1., 1., 1., 1., 1., 1., 1., 1.],\n",
       "       [1., 1., 1., 1., 1., 1., 1., 1.],\n",
       "       [1., 1., 1., 1., 1., 1., 1., 1.],\n",
       "       [1., 1., 1., 1., 1., 1., 1., 1.],\n",
       "       [1., 1., 1., 1., 1., 1., 1., 1.],\n",
       "       [1., 1., 1., 1., 1., 1., 1., 1.]])"
      ]
     },
     "execution_count": 43,
     "metadata": {},
     "output_type": "execute_result"
    }
   ],
   "source": [
    "d5 = np.ones([8, 8])\n",
    "d5"
   ]
  },
  {
   "cell_type": "code",
   "execution_count": 44,
   "id": "d0afa665",
   "metadata": {},
   "outputs": [
    {
     "data": {
      "text/plain": [
       "array([ 18,  22,  56,   1,  65,  12,  32,  10,  45,  78, 254])"
      ]
     },
     "execution_count": 44,
     "metadata": {},
     "output_type": "execute_result"
    }
   ],
   "source": [
    "d1"
   ]
  },
  {
   "cell_type": "code",
   "execution_count": 45,
   "id": "72fd2b39",
   "metadata": {},
   "outputs": [
    {
     "data": {
      "text/plain": [
       "array([22, 56,  1, 65, 12])"
      ]
     },
     "execution_count": 45,
     "metadata": {},
     "output_type": "execute_result"
    }
   ],
   "source": [
    "d6 = d1[1:6]\n",
    "d6"
   ]
  },
  {
   "cell_type": "code",
   "execution_count": 62,
   "id": "f3694009",
   "metadata": {},
   "outputs": [
    {
     "name": "stdout",
     "output_type": "stream",
     "text": [
      "[0.52010513 0.23228785 0.59548367 0.58055651 0.79742105]\n",
      "[0 0 2 4 4 4 5 5 5 6 6 6 7 7 8 8 9 9]\n"
     ]
    }
   ],
   "source": [
    "d7 = np.random.rand(5)\n",
    "print(d7)\n",
    "d10 = np.random.randint(0,108, size = 18)\n",
    "print(np.sort(d10))"
   ]
  },
  {
   "cell_type": "code",
   "execution_count": 68,
   "id": "996db7e2",
   "metadata": {},
   "outputs": [
    {
     "name": "stdout",
     "output_type": "stream",
     "text": [
      "[1.         1.42857143 1.85714286 2.28571429 2.71428571 3.14285714\n",
      " 3.57142857 4.        ]\n"
     ]
    }
   ],
   "source": [
    "d8 = np.linspace(1, 4, 8, 1)\n",
    "print(d8)"
   ]
  },
  {
   "cell_type": "code",
   "execution_count": 69,
   "id": "9f678a33",
   "metadata": {},
   "outputs": [
    {
     "name": "stdout",
     "output_type": "stream",
     "text": [
      "[ 2  4  6  8 10]\n"
     ]
    }
   ],
   "source": [
    "d9 = np.arange(2, 12, 2)\n",
    "print(d9)"
   ]
  },
  {
   "cell_type": "code",
   "execution_count": 80,
   "id": "ad43c5d5",
   "metadata": {},
   "outputs": [
    {
     "name": "stdout",
     "output_type": "stream",
     "text": [
      "18\n",
      "\n",
      "\n",
      "[[ 1  2  3  4]\n",
      " [ 8  9 10 11]]\n",
      "\n",
      "\n",
      "d2[-1] :  4\n"
     ]
    }
   ],
   "source": [
    "print(d1[0])\n",
    "print(\"\\n\")\n",
    "print(d2)\n",
    "print(\"\\n\")\n",
    "print(\"d2[-1] : \" ,d2[0,-1])"
   ]
  },
  {
   "cell_type": "code",
   "execution_count": 88,
   "id": "d9cbe0c6",
   "metadata": {
    "scrolled": true
   },
   "outputs": [
    {
     "name": "stdout",
     "output_type": "stream",
     "text": [
      "1D array: d1:: \n",
      "----------\n",
      " [ 18  22  56   1  65  12  32  10  45  78 254]\n",
      "\n",
      "\n",
      "\n",
      "\n",
      "2D array: d2:: \n",
      "----------\n",
      " [[ 1  2  3  4]\n",
      " [ 8  9 10 11]]\n",
      "\n",
      "\n",
      "d2[0:2 , 1:3] :: \n",
      "----------\n",
      " [[ 2  3]\n",
      " [ 9 10]]\n",
      "\n",
      "d2[1: , :] :: \n",
      "----------\n",
      " [[ 8  9 10 11]]\n",
      "\n",
      "d2[: , :] :: \n",
      "----------\n",
      " [[ 1  2  3  4]\n",
      " [ 8  9 10 11]]\n"
     ]
    }
   ],
   "source": [
    "print(\"1D array: d1:: \\n----------\\n\",d1)\n",
    "print(\"\\n\")\n",
    "print(\"\\n\")\n",
    "print(\"2D array: d2:: \\n----------\\n\",d2)\n",
    "print(\"\\n\")\n",
    "print(\"d2[0:2 , 1:3] :: \\n----------\\n\",d2[0:2 , 1:3])\n",
    "print(\"\\nd2[1: , :] :: \\n----------\\n\",d2[1: , :])\n",
    "print(\"\\nd2[: , :] :: \\n----------\\n\",d2[: , :])"
   ]
  },
  {
   "cell_type": "code",
   "execution_count": 89,
   "id": "265f0c9a",
   "metadata": {},
   "outputs": [
    {
     "name": "stdout",
     "output_type": "stream",
     "text": [
      "[[ 1  2  3  4]\n",
      " [ 8  9 10 11]]\n",
      "[[1 2 3 4]\n",
      " [5 1 0 0]]\n"
     ]
    }
   ],
   "source": [
    "print(d2)\n",
    "print(d3)"
   ]
  },
  {
   "cell_type": "code",
   "execution_count": 96,
   "id": "41dbf629",
   "metadata": {},
   "outputs": [
    {
     "name": "stdout",
     "output_type": "stream",
     "text": [
      "\n",
      "addition\n",
      "-------------\n",
      " [[ 2  4  6  8]\n",
      " [13 10 14 16]]\n",
      "\n",
      "subtraction\n",
      "-------------\n",
      " [[0 0 0 0]\n",
      " [3 8 6 6]]\n",
      "\n",
      "multilication\n",
      "-------------\n",
      " [[ 1  4  9 16]\n",
      " [40  9 40 55]]\n",
      "\n",
      "division\n",
      "-------------\n",
      " [[1.  1.  1.  1. ]\n",
      " [1.6 9.  2.5 2.2]]\n"
     ]
    }
   ],
   "source": [
    "addition = d2 + d3\n",
    "print(\"\\naddition\\n-------------\\n\", addition)\n",
    "\n",
    "subtraction = d2 - d3\n",
    "print(\"\\nsubtraction\\n-------------\\n\", subtraction)\n",
    "\n",
    "multiplication = d2 * d3\n",
    "print(\"\\nmultilication\\n-------------\\n\", multiplication)\n",
    "\n",
    "division = (d2 / d3)\n",
    "print(\"\\ndivision\\n-------------\\n\", division)"
   ]
  },
  {
   "cell_type": "code",
   "execution_count": 103,
   "id": "1d97034c",
   "metadata": {},
   "outputs": [
    {
     "name": "stdout",
     "output_type": "stream",
     "text": [
      "[1 2 3 4]\n",
      "\n",
      "\n",
      "\n",
      "\n",
      "\n",
      "[ 8  9 10 11]\n",
      "\n",
      "\n",
      "\n",
      "\n",
      "\n",
      "[ 3  4  8  9 10]\n",
      "\n",
      "\n",
      "\n",
      "\n",
      "\n",
      "[[False False False False]\n",
      " [ True  True  True  True]]\n"
     ]
    }
   ],
   "source": [
    "print(d2 [d2 < 5])\n",
    "print(\"\\n\\n\\n\\n\")\n",
    "x = (d2 >= 5)\n",
    "print(d2[x])\n",
    "print(\"\\n\\n\\n\\n\")\n",
    "c = d2[(d2>2)&(d2<11)]\n",
    "print(c)\n",
    "print(\"\\n\\n\\n\\n\")\n",
    "f = (d2 > 5)|(d2 == 5)\n",
    "print(f)"
   ]
  },
  {
   "cell_type": "code",
   "execution_count": null,
   "id": "00b7ccdc",
   "metadata": {},
   "outputs": [],
   "source": []
  }
 ],
 "metadata": {
  "kernelspec": {
   "display_name": "Python 3 (ipykernel)",
   "language": "python",
   "name": "python3"
  },
  "language_info": {
   "codemirror_mode": {
    "name": "ipython",
    "version": 3
   },
   "file_extension": ".py",
   "mimetype": "text/x-python",
   "name": "python",
   "nbconvert_exporter": "python",
   "pygments_lexer": "ipython3",
   "version": "3.9.12"
  }
 },
 "nbformat": 4,
 "nbformat_minor": 5
}

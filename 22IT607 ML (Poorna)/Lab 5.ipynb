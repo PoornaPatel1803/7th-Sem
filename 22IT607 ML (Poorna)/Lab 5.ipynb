{
 "cells": [
  {
   "cell_type": "markdown",
   "id": "b12ec1a6",
   "metadata": {},
   "source": [
    "# KNN Algorithm \n",
    "## 1. Without sklearn"
   ]
  },
  {
   "cell_type": "code",
   "execution_count": 18,
   "id": "3bfe5881",
   "metadata": {},
   "outputs": [
    {
     "name": "stdout",
     "output_type": "stream",
     "text": [
      "The prediction class for the test point [5.5 3.5] is sentosa.\n",
      "The prediction class for the test point [6.5 3. ] is virginica.\n",
      "The prediction class for the test point [4.  4.5] is sentosa.\n"
     ]
    }
   ],
   "source": [
    "import pandas as pd\n",
    "import numpy as np\n",
    "from collections import Counter\n",
    "\n",
    "def euclidean_distance(point1, point2):\n",
    "    return np.sqrt(np.sum((point1-point2)**2))\n",
    "    \n",
    "def knn(train_data, train_labels, test_points, k):\n",
    "    distances = []\n",
    "    for i in range(len(train_data)):\n",
    "        distance = euclidean_distance(train_data[i],test_point)\n",
    "        distances.append((train_labels[i], distance))\n",
    "        \n",
    "    distances.sort(key=lambda x:x[1])\n",
    "    k_nearest_neighbours = [distances[i][0] for i in range(k)]\n",
    "    return Counter(k_nearest_neighbours).most_common(1)[0][0]\n",
    "\n",
    "if __name__ == \"__main__\":\n",
    "    df=pd.read_csv('knn.csv')\n",
    "    train_data=df[['sepal length','sepal width']].values\n",
    "    train_labels = df['species'].values\n",
    "    test_data = np.array([\n",
    "        [5.5, 3.5],\n",
    "        [6.5,3],\n",
    "        [4, 4.5]\n",
    "    ])\n",
    "    k=3\n",
    "    for test_point in test_data:\n",
    "        prediction = knn(train_data, train_labels, test_point,k)\n",
    "        print(f\"The prediction class for the test point {test_point} is {prediction}.\")"
   ]
  },
  {
   "cell_type": "markdown",
   "id": "53e4efee",
   "metadata": {},
   "source": [
    "## 2. Using Sklearn"
   ]
  },
  {
   "cell_type": "code",
   "execution_count": 1,
   "id": "63ea52b0",
   "metadata": {},
   "outputs": [
    {
     "ename": "ModuleNotFoundError",
     "evalue": "No module named 'sklearn.neighbours'",
     "output_type": "error",
     "traceback": [
      "\u001b[1;31m---------------------------------------------------------------------------\u001b[0m",
      "\u001b[1;31mModuleNotFoundError\u001b[0m                       Traceback (most recent call last)",
      "Input \u001b[1;32mIn [1]\u001b[0m, in \u001b[0;36m<cell line: 3>\u001b[1;34m()\u001b[0m\n\u001b[0;32m      1\u001b[0m \u001b[38;5;28;01mimport\u001b[39;00m \u001b[38;5;21;01mpandas\u001b[39;00m \u001b[38;5;28;01mas\u001b[39;00m \u001b[38;5;21;01mpd\u001b[39;00m \n\u001b[0;32m      2\u001b[0m \u001b[38;5;28;01mfrom\u001b[39;00m \u001b[38;5;21;01msklearn\u001b[39;00m\u001b[38;5;21;01m.\u001b[39;00m\u001b[38;5;21;01mmodel_selection\u001b[39;00m \u001b[38;5;28;01mimport\u001b[39;00m train_test_split\n\u001b[1;32m----> 3\u001b[0m \u001b[38;5;28;01mfrom\u001b[39;00m \u001b[38;5;21;01msklearn\u001b[39;00m\u001b[38;5;21;01m.\u001b[39;00m\u001b[38;5;21;01mneighbours\u001b[39;00m \u001b[38;5;28;01mimport\u001b[39;00m KNeighboursclassifier\n\u001b[0;32m      4\u001b[0m \u001b[38;5;28;01mfrom\u001b[39;00m \u001b[38;5;21;01msklearn\u001b[39;00m\u001b[38;5;21;01m.\u001b[39;00m\u001b[38;5;21;01mmetrics\u001b[39;00m \u001b[38;5;28;01mimport\u001b[39;00m accuracy_score\n\u001b[0;32m      6\u001b[0m df \u001b[38;5;241m=\u001b[39m pd\u001b[38;5;241m.\u001b[39mread_csv(\u001b[38;5;124m'\u001b[39m\u001b[38;5;124mknn.csv\u001b[39m\u001b[38;5;124m'\u001b[39m)\n",
      "\u001b[1;31mModuleNotFoundError\u001b[0m: No module named 'sklearn.neighbours'"
     ]
    }
   ],
   "source": [
    "import pandas as pd \n",
    "from sklearn.model_selection import train_test_split\n",
    "from sklearn.neighbours import KNeighboursclassifier\n",
    "from sklearn.metrics import accuracy_score\n",
    "\n",
    "df = pd.read_csv('knn.csv')\n",
    "\n",
    "x = df[['sepal length','sepal width']].values\n",
    "x_train, x_test, y_train, y_test = train_test_split(x,y,test_size=0.2,random_states=42)\n",
    "k=3\n",
    "knn = KNeighboursClassifier(n_neighbours = k)\n",
    "knn.fit(x_train)"
   ]
  },
  {
   "cell_type": "code",
   "execution_count": null,
   "id": "6ae730ac",
   "metadata": {},
   "outputs": [],
   "source": []
  }
 ],
 "metadata": {
  "kernelspec": {
   "display_name": "Python 3 (ipykernel)",
   "language": "python",
   "name": "python3"
  },
  "language_info": {
   "codemirror_mode": {
    "name": "ipython",
    "version": 3
   },
   "file_extension": ".py",
   "mimetype": "text/x-python",
   "name": "python",
   "nbconvert_exporter": "python",
   "pygments_lexer": "ipython3",
   "version": "3.9.12"
  }
 },
 "nbformat": 4,
 "nbformat_minor": 5
}

{
 "cells": [
  {
   "cell_type": "raw",
   "id": "9093414c-ba17-41ae-a5ff-4c75ca5cecac",
   "metadata": {},
   "source": [
    "Lab 4"
   ]
  },
  {
   "cell_type": "code",
   "execution_count": 38,
   "id": "35745289-43e7-4af2-bccc-8b23fb9b447f",
   "metadata": {},
   "outputs": [
    {
     "ename": "TypeError",
     "evalue": "'int' object is not callable",
     "output_type": "error",
     "traceback": [
      "\u001b[1;31m---------------------------------------------------------------------------\u001b[0m",
      "\u001b[1;31mTypeError\u001b[0m                                 Traceback (most recent call last)",
      "Cell \u001b[1;32mIn[38], line 5\u001b[0m\n\u001b[0;32m      3\u001b[0m max_list \u001b[38;5;241m=\u001b[39m []\n\u001b[0;32m      4\u001b[0m \u001b[38;5;28;01mfor\u001b[39;00m t \u001b[38;5;129;01min\u001b[39;00m tuple1:\n\u001b[1;32m----> 5\u001b[0m     min_list\u001b[38;5;241m.\u001b[39mappend(\u001b[38;5;28mmin\u001b[39m(t))\n\u001b[0;32m      6\u001b[0m     max_list\u001b[38;5;241m.\u001b[39mappend(\u001b[38;5;28mmax\u001b[39m(t))\n\u001b[0;32m      8\u001b[0m \u001b[38;5;28mprint\u001b[39m(\u001b[38;5;124m\"\u001b[39m\u001b[38;5;124mminimum number::\u001b[39m\u001b[38;5;124m\"\u001b[39m,\u001b[38;5;28mmin\u001b[39m(min_list))\n",
      "\u001b[1;31mTypeError\u001b[0m: 'int' object is not callable"
     ]
    }
   ],
   "source": [
    "tuple1 = [(15,16,18,36),(18,12,457,235),(154,15,26)]\n",
    "min_list = []\n",
    "max_list = []\n",
    "for t in tuple1:\n",
    "    min_list.append(min(t))\n",
    "    max_list.append(max(t))\n",
    "\n",
    "print(\"minimum number::\",min(min_list))\n",
    "print(\"maximum number::\",max(max_list))"
   ]
  },
  {
   "cell_type": "code",
   "execution_count": 39,
   "id": "3c1ce943-882f-4670-9cfd-4083193d8a27",
   "metadata": {},
   "outputs": [
    {
     "ename": "TypeError",
     "evalue": "'list' object is not callable",
     "output_type": "error",
     "traceback": [
      "\u001b[1;31m---------------------------------------------------------------------------\u001b[0m",
      "\u001b[1;31mTypeError\u001b[0m                                 Traceback (most recent call last)",
      "Cell \u001b[1;32mIn[39], line 4\u001b[0m\n\u001b[0;32m      1\u001b[0m cel \u001b[38;5;241m=\u001b[39m (\u001b[38;5;241m0\u001b[39m,\u001b[38;5;241m10\u001b[39m,\u001b[38;5;241m20\u001b[39m,\u001b[38;5;241m30\u001b[39m,\u001b[38;5;241m40\u001b[39m)\n\u001b[0;32m      2\u001b[0m fah \u001b[38;5;241m=\u001b[39m (\u001b[38;5;241m32\u001b[39m,\u001b[38;5;241m50\u001b[39m,\u001b[38;5;241m68\u001b[39m,\u001b[38;5;241m86\u001b[39m,\u001b[38;5;241m104\u001b[39m)\n\u001b[1;32m----> 4\u001b[0m cel_fah \u001b[38;5;241m=\u001b[39m \u001b[38;5;28mtuple\u001b[39m((temp \u001b[38;5;241m*\u001b[39m \u001b[38;5;241m9\u001b[39m\u001b[38;5;241m/\u001b[39m\u001b[38;5;241m5\u001b[39m) \u001b[38;5;241m+\u001b[39m \u001b[38;5;241m32\u001b[39m \u001b[38;5;28;01mfor\u001b[39;00m temp \u001b[38;5;129;01min\u001b[39;00m cel)\n\u001b[0;32m      5\u001b[0m fah_cel \u001b[38;5;241m=\u001b[39m \u001b[38;5;28mtuple\u001b[39m((temp \u001b[38;5;241m-\u001b[39m \u001b[38;5;241m32\u001b[39m) \u001b[38;5;241m*\u001b[39m \u001b[38;5;241m5\u001b[39m\u001b[38;5;241m/\u001b[39m\u001b[38;5;241m9\u001b[39m \u001b[38;5;28;01mfor\u001b[39;00m temp \u001b[38;5;129;01min\u001b[39;00m fah)\n\u001b[0;32m      7\u001b[0m \u001b[38;5;28mprint\u001b[39m(\u001b[38;5;124m\"\u001b[39m\u001b[38;5;124minitial celcius:\u001b[39m\u001b[38;5;124m\"\u001b[39m,cel)\n",
      "\u001b[1;31mTypeError\u001b[0m: 'list' object is not callable"
     ]
    }
   ],
   "source": [
    "cel = (0,10,20,30,40)\n",
    "fah = (32,50,68,86,104)\n",
    "\n",
    "cel_fah = tuple((temp * 9/5) + 32 for temp in cel)\n",
    "fah_cel = tuple((temp - 32) * 5/9 for temp in fah)\n",
    "\n",
    "print(\"initial celcius:\",cel)\n",
    "print(\"celcius->fahrenheit\",cel_fah,\"\\n\")\n",
    "\n",
    "print(\"initial fahrenheit:\",fah)\n",
    "print(\"fahrenheit->celcius\",fah_cel)"
   ]
  },
  {
   "cell_type": "code",
   "execution_count": 52,
   "id": "47dfce4c-0f0b-4983-a637-a74ac75a1fb3",
   "metadata": {},
   "outputs": [
    {
     "name": "stdout",
     "output_type": "stream",
     "text": [
      "initial items: (15, 36, 254, 14, 78, 52, 63)\n",
      "\n",
      "there sum total:: 512\n"
     ]
    }
   ],
   "source": [
    "item = (15,36,254,14,78,52,63)\n",
    "total = 0\n",
    "for i in item:\n",
    "    total += i\n",
    "\n",
    "print(\"initial items:\",item)\n",
    "print(\"\\nthere sum total::\",total)"
   ]
  },
  {
   "cell_type": "code",
   "execution_count": 51,
   "id": "c906d66d-8810-4b5a-8f7a-2f8f62734ef0",
   "metadata": {},
   "outputs": [
    {
     "name": "stdout",
     "output_type": "stream",
     "text": [
      "list 1: [12, 13, 14, 15, 16]\n",
      "list 2: [22, 23, 24, 25, 26]\n",
      "\n",
      "Union :: [12, 13, 14, 15, 16, 22, 23, 24, 25, 26]\n"
     ]
    }
   ],
   "source": [
    "list1 = [12,13,14,15,16]\n",
    "list2 = [22,23,24,25,26]\n",
    "\n",
    "print(\"list 1:\",list1)\n",
    "print(\"list 2:\",list2)\n",
    "\n",
    "print(\"\\nUnion ::\",list1+list2)"
   ]
  },
  {
   "cell_type": "code",
   "execution_count": 49,
   "id": "89c3d95f-3ff4-44fa-97ef-3a7451d0b921",
   "metadata": {},
   "outputs": [
    {
     "name": "stdout",
     "output_type": "stream",
     "text": [
      "Dictionary 1: {'a': 100, 'b': 200, 'c': 300}\n",
      "Dictionary 2: {'a': 150, 'b': 250, 'd': 400} \n",
      "\n",
      "Combined dictionary is::{'a': 250, 'b': 450, 'c': 300, 'd': 400}\n"
     ]
    }
   ],
   "source": [
    "dict1 = {'a':100,'b':200,'c':300}\n",
    "dict2 = {'a':150,'b':250,'d':400}\n",
    "\n",
    "combined_dict = dict1.copy()\n",
    "for key in dict2:\n",
    "    if key in combined_dict:\n",
    "        combined_dict[key] += dict2[key]\n",
    "    else:\n",
    "        combined_dict[key] = dict2[key]\n",
    "print(\"Dictionary 1:\",dict1)\n",
    "print(\"Dictionary 2:\",dict2,\"\\n\")\n",
    "print(f\"Combined dictionary is::{combined_dict}\")"
   ]
  },
  {
   "cell_type": "code",
   "execution_count": 50,
   "id": "3c83527f-c429-4697-8516-ea76f0eb73b1",
   "metadata": {},
   "outputs": [
    {
     "name": "stdout",
     "output_type": "stream",
     "text": [
      "{'a': 10, 'b': 22, 'c': 3}\n",
      "\n",
      "total = 660\n"
     ]
    }
   ],
   "source": [
    "dict = {'a':10,'b':22,'c':3}\n",
    "total = 1\n",
    "\n",
    "for key in dict:\n",
    "    total *= dict[key]\n",
    "    \n",
    "print(dict)\n",
    "print(\"\\ntotal =\",total)"
   ]
  },
  {
   "cell_type": "code",
   "execution_count": 53,
   "id": "8fe4e0ce-462d-438c-92cb-1b1143a74e02",
   "metadata": {},
   "outputs": [
    {
     "name": "stdin",
     "output_type": "stream",
     "text": [
      "Enter a number to find factorial:: 7\n"
     ]
    },
    {
     "name": "stdout",
     "output_type": "stream",
     "text": [
      "factorial of  7  is  5040\n"
     ]
    }
   ],
   "source": [
    "fact_cache = {}\n",
    "def factor (n):\n",
    "    if n in fact_cache:\n",
    "        return factor_cache[n]\n",
    "    if n==0 or n==1:\n",
    "        result = 1\n",
    "    else:\n",
    "        result = n*factor(n-1)\n",
    "    fact_cache[n] = result\n",
    "    return result\n",
    "\n",
    "number = int(input(\"Enter a number to find factorial::\"))\n",
    "fact_result = factor(number)\n",
    "print(\"factorial of \",number,\" is \",fact_result)"
   ]
  },
  {
   "cell_type": "code",
   "execution_count": null,
   "id": "0c1086b8-1cdb-4566-b21b-7487b74bcb02",
   "metadata": {},
   "outputs": [],
   "source": []
  }
 ],
 "metadata": {
  "kernelspec": {
   "display_name": "Python 3 (ipykernel)",
   "language": "python",
   "name": "python3"
  },
  "language_info": {
   "codemirror_mode": {
    "name": "ipython",
    "version": 3
   },
   "file_extension": ".py",
   "mimetype": "text/x-python",
   "name": "python",
   "nbconvert_exporter": "python",
   "pygments_lexer": "ipython3",
   "version": "3.11.7"
  }
 },
 "nbformat": 4,
 "nbformat_minor": 5
}

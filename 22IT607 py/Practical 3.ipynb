{
 "cells": [
  {
   "cell_type": "code",
   "execution_count": 59,
   "id": "732ebde6-4502-47a0-b601-de2629be95df",
   "metadata": {},
   "outputs": [
    {
     "name": "stdout",
     "output_type": "stream",
     "text": [
      "even numbers are :: 0,2,4,6,8,10,12,14,16,18,20,22,24,26,28,30,32,34,36,38,40,42,44,46,48,50,52,54,56,58,60,62,64,66,68,70,72,74,76,78,80,82,84,86,88,90,92,94,96,98,100,"
     ]
    }
   ],
   "source": [
    "i=0\n",
    "print(\"even numbers are :: \",end=\"\")\n",
    "while i < 101 :\n",
    "    if i % 2 == 0:\n",
    "        print(i,end=\",\")\n",
    "    i += 1"
   ]
  },
  {
   "cell_type": "code",
   "execution_count": 60,
   "id": "effb2a3b-9eed-41a0-aa8a-b2eea3ee41d3",
   "metadata": {},
   "outputs": [
    {
     "name": "stdout",
     "output_type": "stream",
     "text": [
      "::Prime numbers 0-50::\n",
      "2 , 3 , 5 , 7 , 11 , 13 , 17 , 19 , 23 , 29 , 31 , 37 , 41 , 43 , 47 , "
     ]
    }
   ],
   "source": [
    "print(\"::Prime numbers 0-50::\")\n",
    "for num in range(1,51):\n",
    "    if num > 1:\n",
    "        for i in range(2,num):\n",
    "            if(num % i) == 0:\n",
    "                break;\n",
    "        else:\n",
    "                print(num,\",\",end=\" \")"
   ]
  },
  {
   "cell_type": "code",
   "execution_count": 61,
   "id": "7d553ce7-260b-4d01-87a1-d59fe5df49c0",
   "metadata": {},
   "outputs": [
    {
     "name": "stdout",
     "output_type": "stream",
     "text": [
      "::LETTER D::\n",
      "\n",
      "**** \n",
      "*   *\n",
      "*   *\n",
      "*   *\n",
      "**** \n"
     ]
    }
   ],
   "source": [
    "print(\"::LETTER D::\\n\")\n",
    "for i in range(0,5):\n",
    "    for j in range(0,5):\n",
    "        if ((i==0) or (i==5-1) or (j==0) or (j==5-1)):\n",
    "            if ((i==0 and j==5-1) or (i==4 and j==4)):\n",
    "                print(\" \",end=\"\")\n",
    "            else:\n",
    "                print(\"*\",end=\"\")\n",
    "        else:\n",
    "            print(\" \",end=\"\")\n",
    "    print()"
   ]
  },
  {
   "cell_type": "code",
   "execution_count": 62,
   "id": "aa2ef222-8682-4913-ab54-a04e3e6385ab",
   "metadata": {},
   "outputs": [
    {
     "name": "stdin",
     "output_type": "stream",
     "text": [
      "Enter a number:: 5\n"
     ]
    },
    {
     "name": "stdout",
     "output_type": "stream",
     "text": [
      "factorial of 5 is :: 120\n"
     ]
    }
   ],
   "source": [
    "fact = int(input(\"Enter a number::\"))\n",
    "\n",
    "ans = 1\n",
    "for num in range(fact , 1, -1):\n",
    "    ans *=num\n",
    "print(\"factorial of\" , fact , \"is ::\" , ans)"
   ]
  },
  {
   "cell_type": "code",
   "execution_count": 63,
   "id": "f5ba5ca3-f179-4865-9a8c-4d6c0a0ed72e",
   "metadata": {},
   "outputs": [
    {
     "name": "stdout",
     "output_type": "stream",
     "text": [
      "SUM OF DIGITS\n"
     ]
    },
    {
     "name": "stdin",
     "output_type": "stream",
     "text": [
      "Enter number:: 235689\n"
     ]
    },
    {
     "name": "stdout",
     "output_type": "stream",
     "text": [
      "sum of digits is:: 33\n"
     ]
    }
   ],
   "source": [
    "print(\"SUM OF DIGITS\")\n",
    "\n",
    "num = int(input(\"Enter number::\"))\n",
    "sum = 0\n",
    "temp = num\n",
    "\n",
    "while temp > 0:\n",
    "    rem=temp%10\n",
    "    sum+=int(rem)\n",
    "    temp/=10\n",
    "print(\"sum of digits is::\",sum)\n"
   ]
  },
  {
   "cell_type": "code",
   "execution_count": 64,
   "id": "d0644bb3-f2ad-4813-afe7-e2bc87ac77f5",
   "metadata": {},
   "outputs": [
    {
     "name": "stdout",
     "output_type": "stream",
     "text": [
      "::Diamond::\n",
      "\n",
      "    * \n",
      "   * * \n",
      "  * * * \n",
      " * * * * \n",
      "* * * * * \n",
      "\n",
      "\n",
      "\n",
      "::Reversed Diamond::\n",
      "\n",
      " * * * * \n",
      "  * * * \n",
      "   * * \n",
      "    * \n"
     ]
    }
   ],
   "source": [
    "print(\"::Diamond::\\n\")\n",
    "rows = 5\n",
    "\n",
    "for i in range(rows):\n",
    "    print(\" \" * (rows-i-1) + \"* \" *(i+1))\n",
    "print(\"\\n\\n\")\n",
    "print(\"::Reversed Diamond::\\n\")\n",
    "for i in range(rows-2,-1,-1):\n",
    "    print(\" \" *(rows -i - 1)+\"* \" * (i+1))"
   ]
  }
 ],
 "metadata": {
  "kernelspec": {
   "display_name": "Python 3 (ipykernel)",
   "language": "python",
   "name": "python3"
  },
  "language_info": {
   "codemirror_mode": {
    "name": "ipython",
    "version": 3
   },
   "file_extension": ".py",
   "mimetype": "text/x-python",
   "name": "python",
   "nbconvert_exporter": "python",
   "pygments_lexer": "ipython3",
   "version": "3.11.7"
  }
 },
 "nbformat": 4,
 "nbformat_minor": 5
}
